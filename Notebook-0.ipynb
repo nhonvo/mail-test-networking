{
    "metadata": {
        "kernelspec": {
            "name": "SQL",
            "display_name": "SQL",
            "language": "sql"
        },
        "language_info": {
            "name": "sql",
            "version": ""
        }
    },
    "nbformat_minor": 2,
    "nbformat": 4,
    "cells": [
        {
            "cell_type": "code",
            "source": [
                "use master\r\n",
                "go\r\n",
                "drop database if exists mailserver\r\n",
                "create database mailserver\r\n",
                "go\r\n",
                "use mailserver\r\n",
                "go\r\n",
                "create table [User](\r\n",
                "\tid int identity(1,1) primary key,\r\n",
                "\tusername varchar(30),\r\n",
                "\t[password] varchar(8),\r\n",
                "\tfullname nvarchar(100),\r\n",
                "\thost varchar(20),\r\n",
                "\t[port] int,\r\n",
                "\tdatecreated datetime\r\n",
                ")\r\n",
                "create table mail(\r\n",
                "\tid int identity(1,1) primary key,\r\n",
                "\ttitle nvarchar(30),\r\n",
                "\tcontent nvarchar(max),\r\n",
                "\tdatecreated datetime,\r\n",
                "\tSenderId int,\r\n",
                "\tReceiverId int,\r\n",
                "\tforeign key (SenderId) references [User](id),\r\n",
                "\tforeign key (ReceiverId) references [User](id)\r\n",
                ")\r\n",
                "\r\n",
                "go\r\n",
                "insert into [User] values ('truongnhon','123',N'Võ Thương Trường Nhơn', '192.168.1.1', 1, 20/10/2022);\r\n",
                "insert into [User] values ('ductai','123',N'Phạm Đức Tài', '192.168.1.1', 1, 20/10/2022)\r\n",
                "go"
            ],
            "metadata": {
                "azdata_cell_guid": "c8bbb602-e8bc-4f87-a8c1-e6d837356edb",
                "language": "sql"
            },
            "outputs": [
                {
                    "output_type": "display_data",
                    "data": {
                        "text/html": "Query was canceled by user"
                    },
                    "metadata": {}
                },
                {
                    "output_type": "display_data",
                    "data": {
                        "text/html": "Commands completed successfully."
                    },
                    "metadata": {}
                },
                {
                    "output_type": "display_data",
                    "data": {
                        "text/html": "Commands completed successfully."
                    },
                    "metadata": {}
                },
                {
                    "output_type": "display_data",
                    "data": {
                        "text/html": "Commands completed successfully."
                    },
                    "metadata": {}
                },
                {
                    "output_type": "display_data",
                    "data": {
                        "text/html": "(1 row affected)"
                    },
                    "metadata": {}
                },
                {
                    "output_type": "display_data",
                    "data": {
                        "text/html": "(1 row affected)"
                    },
                    "metadata": {}
                },
                {
                    "output_type": "display_data",
                    "data": {
                        "text/html": "Total execution time: 00:00:00.154"
                    },
                    "metadata": {}
                }
            ],
            "execution_count": 30
        },
        {
            "cell_type": "code",
            "source": [
                "use mailserver\r\n",
                "select * from [User]    \r\n",
                "select * from mail    "
            ],
            "metadata": {
                "language": "sql",
                "azdata_cell_guid": "8de9b010-1660-4ebf-a349-b3ac051428ee"
            },
            "outputs": [
                {
                    "output_type": "display_data",
                    "data": {
                        "text/html": "(2 rows affected)"
                    },
                    "metadata": {}
                },
                {
                    "output_type": "display_data",
                    "data": {
                        "text/html": "(0 rows affected)"
                    },
                    "metadata": {}
                },
                {
                    "output_type": "display_data",
                    "data": {
                        "text/html": "Total execution time: 00:00:00.008"
                    },
                    "metadata": {}
                },
                {
                    "output_type": "execute_result",
                    "metadata": {},
                    "execution_count": 29,
                    "data": {
                        "application/vnd.dataresource+json": {
                            "schema": {
                                "fields": [
                                    {
                                        "name": "id"
                                    },
                                    {
                                        "name": "username"
                                    },
                                    {
                                        "name": "password"
                                    },
                                    {
                                        "name": "fullname"
                                    },
                                    {
                                        "name": "host"
                                    },
                                    {
                                        "name": "port"
                                    },
                                    {
                                        "name": "datecreated"
                                    }
                                ]
                            },
                            "data": [
                                {
                                    "0": "1",
                                    "1": "truongnhon",
                                    "2": "123",
                                    "3": "Võ Thương Trường Nhơn",
                                    "4": "192.168.1.1",
                                    "5": "1",
                                    "6": "1900-01-01 00:00:00.000"
                                },
                                {
                                    "0": "2",
                                    "1": "ductai",
                                    "2": "123",
                                    "3": "Phạm Đức Tài",
                                    "4": "192.168.1.1",
                                    "5": "1",
                                    "6": "1900-01-01 00:00:00.000"
                                }
                            ]
                        },
                        "text/html": [
                            "<table>",
                            "<tr><th>id</th><th>username</th><th>password</th><th>fullname</th><th>host</th><th>port</th><th>datecreated</th></tr>",
                            "<tr><td>1</td><td>truongnhon</td><td>123</td><td>Võ Thương Trường Nhơn</td><td>192.168.1.1</td><td>1</td><td>1900-01-01 00:00:00.000</td></tr>",
                            "<tr><td>2</td><td>ductai</td><td>123</td><td>Phạm Đức Tài</td><td>192.168.1.1</td><td>1</td><td>1900-01-01 00:00:00.000</td></tr>",
                            "</table>"
                        ]
                    }
                },
                {
                    "output_type": "execute_result",
                    "metadata": {},
                    "execution_count": 29,
                    "data": {
                        "application/vnd.dataresource+json": {
                            "schema": {
                                "fields": [
                                    {
                                        "name": "id"
                                    },
                                    {
                                        "name": "title"
                                    },
                                    {
                                        "name": "content"
                                    },
                                    {
                                        "name": "datecreated"
                                    },
                                    {
                                        "name": "SenderId"
                                    },
                                    {
                                        "name": "ReceiverId"
                                    }
                                ]
                            },
                            "data": []
                        },
                        "text/html": [
                            "<table>",
                            "<tr><th>id</th><th>title</th><th>content</th><th>datecreated</th><th>SenderId</th><th>ReceiverId</th></tr>",
                            "</table>"
                        ]
                    }
                }
            ],
            "execution_count": 29
        },
        {
            "cell_type": "code",
            "source": [
                "-- select * from [user]\r\n",
                "select * from [user] where username = 'truongnhon'\r\n",
                "GO"
            ],
            "metadata": {
                "azdata_cell_guid": "d8106930-57f7-44d5-9a88-381dead40a1f",
                "language": "sql"
            },
            "outputs": [
                {
                    "output_type": "display_data",
                    "data": {
                        "text/html": "(1 row affected)"
                    },
                    "metadata": {}
                },
                {
                    "output_type": "display_data",
                    "data": {
                        "text/html": "Total execution time: 00:00:00.008"
                    },
                    "metadata": {}
                },
                {
                    "output_type": "execute_result",
                    "metadata": {},
                    "execution_count": 24,
                    "data": {
                        "application/vnd.dataresource+json": {
                            "schema": {
                                "fields": [
                                    {
                                        "name": "id"
                                    },
                                    {
                                        "name": "username"
                                    },
                                    {
                                        "name": "password"
                                    },
                                    {
                                        "name": "fullname"
                                    },
                                    {
                                        "name": "host"
                                    },
                                    {
                                        "name": "port"
                                    },
                                    {
                                        "name": "datecreated"
                                    }
                                ]
                            },
                            "data": [
                                {
                                    "0": "1",
                                    "1": "truongnhon",
                                    "2": "123",
                                    "3": "Võ Thương Trường Nhơn",
                                    "4": "192.168.1.1",
                                    "5": "1",
                                    "6": "1900-01-01 00:00:00.000"
                                }
                            ]
                        },
                        "text/html": [
                            "<table>",
                            "<tr><th>id</th><th>username</th><th>password</th><th>fullname</th><th>host</th><th>port</th><th>datecreated</th></tr>",
                            "<tr><td>1</td><td>truongnhon</td><td>123</td><td>Võ Thương Trường Nhơn</td><td>192.168.1.1</td><td>1</td><td>1900-01-01 00:00:00.000</td></tr>",
                            "</table>"
                        ]
                    }
                }
            ],
            "execution_count": 24
        },
        {
            "cell_type": "code",
            "source": [
                "\r\n",
                "-- go\r\n",
                "-- insert into [User] values ('truongnhon','123',N'Võ Thương Trường Nhơn', '192.168.1.1', 1, 20/10/2022);\r\n",
                "-- insert into [User] values ('ductai','123',N'Phạm Đức Tài', '192.168.1.1', 1, 20/10/2022)\r\n",
                "go\r\n",
                "\r\n",
                "-- insert into mail values ('test1',N'Đây là nội dung test1 rất dài luôn trời ơi', 20-10-2022, 1, 2)\r\n",
                "-- insert into mail values ('test2',N'Đây là nội dung test2 rất dài luôn trời ơi', 20-10-2022, 1, 2)\r\n",
                "\r\n",
                "insert into mail values(N'ơ',N'nội dung',2022/12/17,1,2)"
            ],
            "metadata": {
                "azdata_cell_guid": "21c85d81-0519-429b-beb9-fdc311f8c695",
                "language": "sql",
                "tags": []
            },
            "outputs": [
                {
                    "output_type": "display_data",
                    "data": {
                        "text/html": "Commands completed successfully."
                    },
                    "metadata": {}
                },
                {
                    "output_type": "display_data",
                    "data": {
                        "text/html": "(1 row affected)"
                    },
                    "metadata": {}
                },
                {
                    "output_type": "display_data",
                    "data": {
                        "text/html": "Total execution time: 00:00:00"
                    },
                    "metadata": {}
                }
            ],
            "execution_count": 21
        }
    ]
}